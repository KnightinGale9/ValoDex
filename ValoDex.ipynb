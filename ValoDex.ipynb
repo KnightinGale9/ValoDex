{
 "cells": [
  {
   "cell_type": "code",
   "execution_count": 135,
   "id": "ea21e71e-72e2-479a-8147-cdeffefd3a85",
   "metadata": {},
   "outputs": [],
   "source": [
    "import mysql.connector\n",
    "from mysql.connector import Error \n",
    "import json\n",
    "import pandas as pd\n",
    "import datetime"
   ]
  },
  {
   "cell_type": "markdown",
   "id": "0d5575a3-871c-4d47-a6f7-2ddb8d343997",
   "metadata": {
    "tags": []
   },
   "source": [
    "# Necessary Methods(DO NOT CHANGE)"
   ]
  },
  {
   "cell_type": "code",
   "execution_count": 2,
   "id": "baafc9bb-c537-4def-9312-6474989d785b",
   "metadata": {},
   "outputs": [],
   "source": [
    "def get_connection():\n",
    "    connection = mysql.connector.connect()\n",
    "    return connection"
   ]
  },
  {
   "cell_type": "code",
   "execution_count": 3,
   "id": "fdcbae94-4038-41ab-925d-ec7ba17823e9",
   "metadata": {},
   "outputs": [],
   "source": [
    "def close_connection(connection):\n",
    "    if connection:\n",
    "        connection.close()"
   ]
  },
  {
   "cell_type": "code",
   "execution_count": 4,
   "id": "96bf2fbf-026e-4c3c-a37c-7444efa7f1d0",
   "metadata": {},
   "outputs": [],
   "source": [
    "def query_database(command):\n",
    "    try:\n",
    "        connection = get_connection()\n",
    "        db_Info = connection.get_server_info()\n",
    "        print(\"Connected to MySQL Server version \", db_Info)\n",
    "        cursor = connection.cursor()\n",
    "        cursor.execute(\"select database();\")\n",
    "        record = cursor.fetchone()\n",
    "        print(\"You're connected to database: \", record)    \n",
    "        cursor.execute(command)\n",
    "        record = cursor.fetchall()\n",
    "        close_connection(connection)\n",
    "        return record\n",
    "    except (Exception, mysql.connector.Error) as error:\n",
    "        print(\"Error while getting data\", error)"
   ]
  },
  {
   "cell_type": "code",
   "execution_count": 5,
   "id": "39710faf-fb71-4522-be30-b600df2f5958",
   "metadata": {},
   "outputs": [],
   "source": [
    "def insert_database(command,data):\n",
    "    connection = get_connection()\n",
    "    db_Info = connection.get_server_info()\n",
    "    print(\"Connected to MySQL Server version \", db_Info)\n",
    "    cursor = connection.cursor()\n",
    "    cursor.execute(\"select database();\")\n",
    "    record = cursor.fetchone()\n",
    "    print(\"You're connected to database: \", record)  \n",
    "    errors=[]\n",
    "    for row in data:\n",
    "        try:\n",
    "            cursor.execute(command,row)\n",
    "            connection.commit()\n",
    "        except (Exception, mysql.connector.Error) as error:\n",
    "            print(\"Error while inputting data\",row,\"\\n\", error,\"\\n\")\n",
    "            errors.append(row)\n",
    "    close_connection(connection)\n",
    "    return errors"
   ]
  },
  {
   "cell_type": "code",
   "execution_count": 6,
   "id": "58ff0c5e-6520-4890-92ec-155408cb6419",
   "metadata": {},
   "outputs": [],
   "source": [
    "def dateConvertor(year,month,day):\n",
    "    return f\"{year}-{month}-{day} 00:00:00\""
   ]
  },
  {
   "cell_type": "code",
   "execution_count": 7,
   "id": "ca2e2194-c5d5-4700-91f7-982a9575ffd9",
   "metadata": {},
   "outputs": [],
   "source": [
    "avalible_regions = set(['CN','HK/TW','ID', 'JP', 'KR', 'MY/SG', 'OCE', 'PH', 'SA', 'TH', 'VN','SEA'])\n",
    "TournamentRating = set(['S','A','B','C'])"
   ]
  },
  {
   "cell_type": "markdown",
   "id": "34d2f2d9-17d1-406f-98ef-81c5f5cd87fa",
   "metadata": {
    "tags": []
   },
   "source": [
    "# Insert New Tournament"
   ]
  },
  {
   "cell_type": "markdown",
   "id": "59dfbacf-7014-4e6d-aac9-573f08d387b0",
   "metadata": {},
   "source": [
    "## Insert Manually"
   ]
  },
  {
   "cell_type": "markdown",
   "id": "e3d389d9-5b15-49e6-8bb4-1c0b184099b8",
   "metadata": {},
   "source": [
    "The Following is the format you want to use if inserting manually\n",
    "\n",
    "tournament_name= \"Test\" # tournament name<br>\n",
    "tournament_region = \"SA\" # region tournament was (must be valid region)<br>\n",
    "tournament_date_start= dateConvertor(2022,12,9) #only change the number in the parenthesis it goes year,month,day <br>\n",
    "tournament_rating = \"A\"  # the rating of the tournament<br>\n",
    "[optional] tournament_outsideID= \"info:1811\" #optional: add a outside Id if you want"
   ]
  },
  {
   "cell_type": "code",
   "execution_count": 8,
   "id": "8bef2280-5cf4-4790-a169-cef4a29fbca5",
   "metadata": {},
   "outputs": [
    {
     "name": "stdout",
     "output_type": "stream",
     "text": [
      "Connected to MySQL Server version  8.0.28\n",
      "You're connected to database:  ('valodex',)\n"
     ]
    },
    {
     "data": {
      "text/plain": [
       "[]"
      ]
     },
     "execution_count": 8,
     "metadata": {},
     "output_type": "execute_result"
    }
   ],
   "source": [
    "tournament_name= \"Test3\"\n",
    "tournament_region = \"SA\"\n",
    "tournament_date_start= dateConvertor(2022,12,9)\n",
    "tournament_date_end= dateConvertor(2022,12,11)\n",
    "tournament_rating = \"A\"\n",
    "tournament_outsideID=None\n",
    "stmt = \"INSERT INTO `ValoDex`.`Tournament` (`Tournament_Name`,`Region`,`Tournament_Rating_Type`,`DateStart`,`DateEnd`,`outsideID`) VALUES (%s,%s,%s,%s,%s,%s)\"\n",
    "insert_database(stmt,[(tournament_name,tournament_region,tournament_rating,tournament_date_start,tournament_date_end,tournament_outsideID)])"
   ]
  },
  {
   "cell_type": "markdown",
   "id": "7e12490a-7f69-43d8-8fa3-757e753fdc07",
   "metadata": {},
   "source": [
    "## Insert through CSV\n"
   ]
  },
  {
   "cell_type": "markdown",
   "id": "1c3db895-0e32-4adb-83e2-283935f19ddf",
   "metadata": {},
   "source": [
    "When inserting through csv make sure that the each line of the file is in the following format\n",
    "\n",
    "Name,Region,Rating,StartDate,EndDate, [optional] outsideID\n",
    "\n",
    "StartDate and EndDate have special Format as day,month,year the inbetween between the dates can be either - or /\n",
    "\n",
    "Examples:<br>\n",
    "Test,SA,A,9-12-2022,9-15-2022,<br>\n",
    "Test2,TH,A,9/12/2022,9/15/2022,11"
   ]
  },
  {
   "cell_type": "code",
   "execution_count": 9,
   "id": "7dfe8f36-2765-4d1b-92db-bbbf8e8b53d6",
   "metadata": {},
   "outputs": [],
   "source": [
    "filename=\"tournament.csv\"\n",
    "tournament=[]\n",
    "with open(filename,mode=\"r\",encoding=\"utf-8\") as f:\n",
    "    for line in f:\n",
    "        row=[]\n",
    "        temp=line.replace(\"\\n\",\"\").split(',')\n",
    "        row.append(temp[0])\n",
    "        row.append(temp[1])\n",
    "        row.append(temp[2])\n",
    "        datetemp=str(temp[3]).replace('/','-').split('-')\n",
    "        row.append(dateConvertor(year=datetemp[2],month=datetemp[0],day=datetemp[1]))\n",
    "        datetemp=str(temp[4]).replace('/','-').split('-')\n",
    "        row.append(dateConvertor(year=datetemp[2],month=datetemp[0],day=datetemp[1]))\n",
    "        if temp[5]!=\"\":\n",
    "            row.append(temp[5])\n",
    "        else:\n",
    "            row.append(None)\n",
    "        tournament.append(row.copy())"
   ]
  },
  {
   "cell_type": "code",
   "execution_count": 10,
   "id": "ed148061-2b45-4f03-8e0e-1efea7a1aa4b",
   "metadata": {},
   "outputs": [
    {
     "name": "stdout",
     "output_type": "stream",
     "text": [
      "Name,Region,Rating,StartDate,EndDate\n",
      "['Test', 'SA', 'A', '2022-9-12 00:00:00', '2022-9-15 00:00:00', None]\n",
      "['Test2', 'SA', 'A', '2022-9-12 00:00:00', '2022-9-15 00:00:00', '11']\n"
     ]
    }
   ],
   "source": [
    "print(\"Name,Region,Rating,StartDate,EndDate\")\n",
    "for row in tournament:\n",
    "    print(row)"
   ]
  },
  {
   "cell_type": "code",
   "execution_count": 11,
   "id": "d7cf7834-632c-4e43-91a5-f605eb774be8",
   "metadata": {},
   "outputs": [
    {
     "name": "stdout",
     "output_type": "stream",
     "text": [
      "Connected to MySQL Server version  8.0.28\n",
      "You're connected to database:  ('valodex',)\n"
     ]
    }
   ],
   "source": [
    "stmt = \"INSERT INTO `ValoDex`.`Tournament` (`Tournament_Name`,`Region`,`Tournament_Rating_Type`,`DateStart`,`DateEnd`,`OutsideID`) VALUES (%s,%s,%s,%s,%s,%s)\"\n",
    "errors = insert_database(stmt,tournament)"
   ]
  },
  {
   "cell_type": "markdown",
   "id": "f8bd8a01-896f-4361-bb65-59c91a0447fa",
   "metadata": {},
   "source": [
    "## Update the Rating of a Tournament"
   ]
  },
  {
   "cell_type": "markdown",
   "id": "ecdd49bc-fde9-41e6-a048-3a82a8b2d1d2",
   "metadata": {},
   "source": [
    "The Following is the format you want to use if inserting manually\n",
    "\n",
    "Tournament_rating='S'  #The rating you want to change to<BR>\n",
    "Tournamnet_name='Test' #The name of the tournament<BR>"
   ]
  },
  {
   "cell_type": "code",
   "execution_count": 40,
   "id": "2e890c0e-0251-42de-8157-fbff470e2197",
   "metadata": {},
   "outputs": [
    {
     "name": "stdout",
     "output_type": "stream",
     "text": [
      "Connected to MySQL Server version  8.0.28\n",
      "You're connected to database:  ('valodex',)\n"
     ]
    },
    {
     "data": {
      "text/plain": [
       "[]"
      ]
     },
     "execution_count": 40,
     "metadata": {},
     "output_type": "execute_result"
    }
   ],
   "source": [
    "Tournament_rating='S'\n",
    "Tournamnet_name='Test2'\n",
    "\n",
    "stmt=\"update `ValoDex`.`Tournament` set `Tournament_Rating_Type`=%s where `Tournament_name`=%s \"\n",
    "insert_database(stmt,[(Tournament_rating,Tournamnet_name)])"
   ]
  },
  {
   "cell_type": "markdown",
   "id": "d257d8c1-c672-4249-8f35-2946b58644e7",
   "metadata": {
    "tags": []
   },
   "source": [
    "# Insert New Team"
   ]
  },
  {
   "cell_type": "markdown",
   "id": "605116f5-e211-4697-9b7e-9cf195649a38",
   "metadata": {},
   "source": [
    "## Manual input"
   ]
  },
  {
   "cell_type": "markdown",
   "id": "6325ea4b-7065-4d25-9d53-90d94db1766e",
   "metadata": {},
   "source": [
    "The following is the format you have to follow to do manual input:\n",
    "\n",
    "teamname= \"Bleed\" #name<br>\n",
    "teamabr=\"BLD\"  #abbreviation<br>\n",
    "region=\"MY/SG\" #region ( must be a valid one)<br>\n",
    "fa=0 # 0 mean not fa team | 1 mean fa team"
   ]
  },
  {
   "cell_type": "code",
   "execution_count": 12,
   "id": "776659f0-e1c4-4b5a-9809-30653e920e65",
   "metadata": {},
   "outputs": [
    {
     "name": "stdout",
     "output_type": "stream",
     "text": [
      "Connected to MySQL Server version  8.0.28\n",
      "You're connected to database:  ('valodex',)\n"
     ]
    },
    {
     "data": {
      "text/plain": [
       "[]"
      ]
     },
     "execution_count": 12,
     "metadata": {},
     "output_type": "execute_result"
    }
   ],
   "source": [
    "teamname=\"Test\"\n",
    "teamabr=\"TT\"\n",
    "region=\"CN\"\n",
    "fa=0\n",
    "\n",
    "stmt = \"INSERT INTO `ValoDex`.`Team` (`Name`,`Abbreviation`,`Region`,`FA`) VALUES (%s,%s,%s,%s)\"\n",
    "insert_database(stmt,[(teamname,teamabr,region,fa)])"
   ]
  },
  {
   "cell_type": "markdown",
   "id": "3c36b4f6-a102-4050-b316-571d2506a574",
   "metadata": {},
   "source": [
    "## Input through CSV"
   ]
  },
  {
   "cell_type": "markdown",
   "id": "a26d8b7b-e9e5-455e-b13b-64e164e83c60",
   "metadata": {},
   "source": [
    "When inserting through csv make sure that the each line of the file is in the following format\n",
    "\n",
    "team_name,team_ abreviation,region, and fa status\n",
    "\n",
    "example:<br> \n",
    "Bleed,BLD,MY/SG,0<br>\n",
    "Boom,BME,ID,0<br>\n",
    "Made in Thailand,MITH,TH,0"
   ]
  },
  {
   "cell_type": "code",
   "execution_count": 13,
   "id": "0d932609-d440-410f-ab5e-b9992995a26e",
   "metadata": {},
   "outputs": [],
   "source": [
    "filename=\"team.csv\"\n",
    "team=[]\n",
    "with open(filename,mode=\"r\",encoding=\"utf-8\") as f:\n",
    "    for line in f:\n",
    "        line=str(line).upper()\n",
    "        temp=line.replace(\"\\n\",\"\").split(',')\n",
    "        temp[3]=int(temp[3])\n",
    "        team.append(temp)\n",
    "        \n",
    "        "
   ]
  },
  {
   "cell_type": "code",
   "execution_count": 14,
   "id": "4cab89a9-151c-4900-87ae-916871ddab54",
   "metadata": {},
   "outputs": [
    {
     "name": "stdout",
     "output_type": "stream",
     "text": [
      "Name,Abreviation,Region,FA\n",
      "['BLEED', 'BLD', 'MY/SG', 0]\n",
      "['BOOM', 'BME', 'ID', 0]\n",
      "['MADE IN THAILAND', 'MITH', 'TH', 0]\n"
     ]
    }
   ],
   "source": [
    "print(\"Name,Abreviation,Region,FA\")\n",
    "for row in team:\n",
    "    print(row)   "
   ]
  },
  {
   "cell_type": "code",
   "execution_count": 15,
   "id": "4c2f7119-7f68-4cd0-9a60-57928516a27e",
   "metadata": {},
   "outputs": [
    {
     "name": "stdout",
     "output_type": "stream",
     "text": [
      "Connected to MySQL Server version  8.0.28\n",
      "You're connected to database:  ('valodex',)\n"
     ]
    },
    {
     "data": {
      "text/plain": [
       "[]"
      ]
     },
     "execution_count": 15,
     "metadata": {},
     "output_type": "execute_result"
    }
   ],
   "source": [
    "stmt = \"INSERT INTO `ValoDex`.`Team` (`Name`,`Abbreviation`,`Region`,`FA`) VALUES (%s,%s,%s,%s)\"\n",
    "insert_database(stmt,team)"
   ]
  },
  {
   "cell_type": "markdown",
   "id": "33917cc3-f031-4076-bf50-dc12cf32dc34",
   "metadata": {},
   "source": [
    "# Update ELO SCALE"
   ]
  },
  {
   "cell_type": "markdown",
   "id": "71bce14a-c073-4355-ba0b-02747095dc5d",
   "metadata": {},
   "source": [
    "The following is the format you have to follow to do manual input:\n",
    "\n",
    "region=\"MY/SG\" #region ( must be a valid one)<br>\n",
    "eloscale=30 # the percentage by number (i.e. 30 = 30%,20=20%)"
   ]
  },
  {
   "cell_type": "code",
   "execution_count": 16,
   "id": "df5b981c-6c02-4c95-a8f0-1eba74040fb6",
   "metadata": {},
   "outputs": [
    {
     "name": "stdout",
     "output_type": "stream",
     "text": [
      "Connected to MySQL Server version  8.0.28\n",
      "You're connected to database:  ('valodex',)\n"
     ]
    },
    {
     "data": {
      "text/plain": [
       "[]"
      ]
     },
     "execution_count": 16,
     "metadata": {},
     "output_type": "execute_result"
    }
   ],
   "source": [
    "region='SA'\n",
    "eloscale=30\n",
    "stmt = \"Update `ValoDex`.`Region` Set `EloScale`=%s where `Name`=%s\"\n",
    "insert_database(stmt,[(eloscale,region)])   "
   ]
  },
  {
   "cell_type": "markdown",
   "id": "44d240d7-f3b6-4018-b147-e29fe7005049",
   "metadata": {},
   "source": [
    "# Update Tournament Rating"
   ]
  },
  {
   "cell_type": "markdown",
   "id": "b5f25165-79e1-44b3-9479-40e26020a0aa",
   "metadata": {},
   "source": [
    "The following is the format you have to follow to do manual input:\n",
    "\n",
    "TournamentType=\"A\" #The tournament rating<BR>\n",
    "Placement=1 #The placement you want to change<BR>\n",
    "PlacementElo=50 #The elo you want to set it to"
   ]
  },
  {
   "cell_type": "code",
   "execution_count": 17,
   "id": "700f630e-fdb7-443a-a898-120307e88a17",
   "metadata": {},
   "outputs": [
    {
     "name": "stdout",
     "output_type": "stream",
     "text": [
      "Connected to MySQL Server version  8.0.28\n",
      "You're connected to database:  ('valodex',)\n"
     ]
    },
    {
     "data": {
      "text/plain": [
       "[]"
      ]
     },
     "execution_count": 17,
     "metadata": {},
     "output_type": "execute_result"
    }
   ],
   "source": [
    "TournamentType=\"A\"\n",
    "Placement=1\n",
    "PlacementElo=50\n",
    "stmt = \"Update `ValoDex`.`Rating_Placement` Set `Elo`=%s where `Tournament_Rating_Type`=%s and `Placement`=%s\"\n",
    "insert_database(stmt,[(PlacementElo,TournamentType,Placement)])"
   ]
  },
  {
   "cell_type": "markdown",
   "id": "8e0e4512-7647-4613-880c-7ab983c60860",
   "metadata": {},
   "source": [
    "# Tournament has Team"
   ]
  },
  {
   "cell_type": "markdown",
   "id": "b6cdfb63-16ae-4724-b001-4a5d17d32bc9",
   "metadata": {},
   "source": [
    "Tournament info"
   ]
  },
  {
   "cell_type": "code",
   "execution_count": 25,
   "id": "19b95e0d-b6ce-4475-a029-0db7a03603d8",
   "metadata": {},
   "outputs": [
    {
     "name": "stdout",
     "output_type": "stream",
     "text": [
      "Connected to MySQL Server version  8.0.28\n",
      "You're connected to database:  ('valodex',)\n"
     ]
    }
   ],
   "source": [
    "tournament_name= \"Test2\"\n",
    "tournament_date_start= dateConvertor(2022,9,12)\n",
    "stmt = f\"Select `Tournament_Rating_Type` FROM `ValoDex`.`tournament` WHERE `Tournament_Name`='{tournament_name}' and `DateStart`= '{tournament_date_start}'\"\n",
    "tournament_rating=query_database(stmt)[0][0]"
   ]
  },
  {
   "cell_type": "markdown",
   "id": "887589ca-9cbd-4e5f-80da-b219ef3855dd",
   "metadata": {},
   "source": [
    "Tournament Placements"
   ]
  },
  {
   "cell_type": "code",
   "execution_count": 48,
   "id": "bbce468d-ed49-41b7-a76e-e187f3e0b0a3",
   "metadata": {},
   "outputs": [
    {
     "data": {
      "text/plain": [
       "[('Test', '2022-9-12 00:00:00', 'A', 'BLEED', 'MY/SG', '1', 1),\n",
       " ('Test', '2022-9-12 00:00:00', 'A', 'BOOM', 'ID', '2', 1),\n",
       " ('Test', '2022-9-12 00:00:00', 'A', 'TEST', 'CN', '3', 2)]"
      ]
     },
     "execution_count": 48,
     "metadata": {},
     "output_type": "execute_result"
    }
   ],
   "source": [
    "filename=\"book1.csv\"\n",
    "team_placement=[]\n",
    "with open(filename,mode=\"r\",encoding=\"utf-8\") as f:\n",
    "    for x in f:\n",
    "        x=x.replace(\"\\n\",\"\")\n",
    "        x=x.split(\",\")\n",
    "        teamname=x[1]\n",
    "        region=x[2]\n",
    "        placement=x[0]\n",
    "        elo_placement=(int(placement)+1)//2\n",
    "        team_placement.append((tournament_name,tournament_date_start,tournament_rating,teamname,region,placement,elo_placement))\n",
    "team_placement"
   ]
  },
  {
   "cell_type": "code",
   "execution_count": 27,
   "id": "c0a18ba7-a94f-4b4d-9536-d9964c811f35",
   "metadata": {},
   "outputs": [
    {
     "name": "stdout",
     "output_type": "stream",
     "text": [
      "Connected to MySQL Server version  8.0.28\n",
      "You're connected to database:  ('valodex',)\n"
     ]
    },
    {
     "data": {
      "text/plain": [
       "[]"
      ]
     },
     "execution_count": 27,
     "metadata": {},
     "output_type": "execute_result"
    }
   ],
   "source": [
    "stmt=\"\"\n",
    "stmt = \"INSERT INTO `ValoDex`.`Tournament_has_Team` (`Tournament_Name`,`\"\n",
    "stmt +=\"Tournament_DateStart`,`Tournament_Rating_Type`,`Team_Name`,`Team_Region`,\"\n",
    "stmt+=\"`Placement`,`Elo_Placement`) VALUES (%s,%s,%s,%s,%s,%s,%s)\"\n",
    "insert_database(stmt,team_placement)"
   ]
  },
  {
   "cell_type": "markdown",
   "id": "a9ddec87-5ae2-4722-a341-5db54fe04371",
   "metadata": {},
   "source": [
    "## Update Extra Elo Scale"
   ]
  },
  {
   "cell_type": "markdown",
   "id": "c829287a-9ab5-42d9-9272-1022521827b8",
   "metadata": {},
   "source": [
    "The following is the format you have to follow to do manual input:<BR>\n",
    "    \n",
    "tournament_name= \"Test\" # the name of the tournament you want to change<BR>\n",
    "team_name=\"BOOM\" # The name of the team this change is for<BR>\n",
    "\n",
    "Extra_ELO=20 # ther percentage of elo you need to change<BR>\n",
    "Reason=\"Surrender\" #the reason for the change"
   ]
  },
  {
   "cell_type": "code",
   "execution_count": 33,
   "id": "47d58b55-c2ef-45d9-a73b-20c626718f9f",
   "metadata": {},
   "outputs": [
    {
     "name": "stdout",
     "output_type": "stream",
     "text": [
      "[(20, 'Surrender', 'Test', 'BOOM')]\n"
     ]
    }
   ],
   "source": [
    "tournament_name= \"Test\"\n",
    "team_name=\"BOOM\"\n",
    "\n",
    "Extra_ELO=20\n",
    "Reason=\"Surrender\"\n",
    "data= [(Extra_ELO,Reason,tournament_name,team_name)]\n",
    "print(data)"
   ]
  },
  {
   "cell_type": "code",
   "execution_count": 34,
   "id": "db924eef-4965-4eed-a861-9c617b4a5f04",
   "metadata": {},
   "outputs": [
    {
     "name": "stdout",
     "output_type": "stream",
     "text": [
      "Connected to MySQL Server version  8.0.28\n",
      "You're connected to database:  ('valodex',)\n"
     ]
    },
    {
     "data": {
      "text/plain": [
       "[]"
      ]
     },
     "execution_count": 34,
     "metadata": {},
     "output_type": "execute_result"
    }
   ],
   "source": [
    "stmt=\"\"\n",
    "stmt+=\"update `ValoDex`.`Tournament_has_Team`\"\n",
    "stmt+=\"set `Extra_Elo_Scale` = %s,`Reason_For_Extra` = %s \"\n",
    "stmt+=\"where `Tournament_has_Team`.`Tournament_Name`=%s \"\n",
    "stmt+=\"and `Tournament_has_Team`.`Team_Name` = %s\"\n",
    "insert_database(stmt,data)"
   ]
  },
  {
   "cell_type": "markdown",
   "id": "a620355f-312e-4fa6-b529-b4dded9539be",
   "metadata": {},
   "source": [
    "# Calculations"
   ]
  },
  {
   "cell_type": "markdown",
   "id": "d1ca91f1-0b29-42d0-b2b1-c0926a0a2fe1",
   "metadata": {},
   "source": [
    "select `Tournament_has_Team`.`Team_Name`,`Tournament_has_Team`.`Team_Region`,\n",
    "Count(`Tournament_has_Team`.`Team_Name`) as `Tourney Count`,Sum(`Rating_Placement`.`Elo`*(100-(`Region`.`EloScale`+`Tournament_has_team`.`Extra_Elo_scale`))/100)+1000 as `Elo`\n",
    "from `Tournament_has_team`,`rating_placement`,`tournament`,`Region`\n",
    "where `Tournament_has_team`.`Tournament_Rating_Type`=`rating_placement`.`Tournament_Rating_Type`\n",
    "and `Tournament_has_team`.`Elo_Placement` = `rating_placement`.`placement` \n",
    "and `Tournament_has_Team`.`Tournament_Name`= `Tournament`.`Tournament_Name`\n",
    "and `Tournament`.`Region` = `Region`.`Name`\n",
    "Group By `Tournament_has_team`.`Team_Name`,`Tournament_has_Team`.`Team_Region`\n",
    "Order by `Elo` DESC\n"
   ]
  },
  {
   "cell_type": "code",
   "execution_count": 35,
   "id": "9eb72619-ce69-41c5-9e8e-4723db8785da",
   "metadata": {},
   "outputs": [
    {
     "name": "stdout",
     "output_type": "stream",
     "text": [
      "Connected to MySQL Server version  8.0.28\n",
      "You're connected to database:  ('valodex',)\n"
     ]
    }
   ],
   "source": [
    "stmt = \"\"\n",
    "stmt+=\"select `Tournament_has_Team`.`Team_Name`,`Tournament_has_Team`.`Team_Region`,\"\n",
    "stmt+=\"Count(`Tournament_has_Team`.`Team_Name`) as Count,Sum(`Rating_Placement`.`Elo`*(100-(`Region`.`EloScale`+`Tournament_has_team`.`Extra_Elo_scale`))/100)+1000 as `Elo`\"\n",
    "stmt+=\"from `Tournament_has_team`,`rating_placement`,`tournament`,`Region`\"\n",
    "stmt+=\"where `Tournament_has_team`.`Tournament_Rating_Type`=`rating_placement`.`Tournament_Rating_Type`\"\n",
    "stmt+=\"and `Tournament_has_team`.`Elo_Placement` = `rating_placement`.`placement`\"\n",
    "stmt+=\"and `Tournament_has_Team`.`Tournament_Name`= `Tournament`.`Tournament_Name`\"\n",
    "stmt+=\"and `Tournament`.`Region` = `Region`.`Name`\"\n",
    "stmt+=\"Group By `Tournament_has_team`.`Team_Name`,`Tournament_has_Team`.`Team_Region`\"\n",
    "stmt+=\"Order by `Elo` DESC,`Count`ASC\"\n",
    "\n",
    "store= query_database(stmt)\n",
    "with open(\"test.csv\",\"w\") as f:\n",
    "    f.write(\",Team,Region,Tourney Count,Elo\\n\")\n",
    "    for i,row in enumerate(store):\n",
    "        f.write(str(i+1))\n",
    "        for data in row:\n",
    "            f.write(\",\")\n",
    "            f.write(str(data))\n",
    "        f.write(\"\\n\")"
   ]
  },
  {
   "cell_type": "markdown",
   "id": "121ebebb-efd3-4f3f-b5e8-24833720b82b",
   "metadata": {},
   "source": [
    "# Tournament Results"
   ]
  },
  {
   "cell_type": "markdown",
   "id": "8fea6904-5d1f-4e7c-a453-f9a1155114f2",
   "metadata": {},
   "source": [
    "select `Tournament_has_Team`.`Tournament_Name`,`Tournament_has_Team`.`Tournament_DateStart`,`Tournament`.`Region` as `TournamentRegion`,\n",
    "`Tournament_has_Team`.`Tournament_Rating_Type`,`Tournament_has_Team`.`Team_Name`,`Tournament_has_Team`.`Team_Region`,\n",
    "`Tournament_has_team`.`Placement`,`Tournament_has_team`.`Elo_Placement`,`Rating_Placement`.`Elo`,`Region`.`EloScale`,`Tournament_has_team`.`Extra_Elo_Scale`,\n",
    "`Rating_Placement`.`Elo`*(100-(`Region`.`EloScale`+`Tournament_has_team`.`Extra_Elo_scale`))/100 as `Elo_Gained`\n",
    "from `Tournament_has_team`,`rating_placement`,`tournament`,`Region`\n",
    "where `Tournament_has_team`.`Tournament_Rating_Type`=`rating_placement`.`Tournament_Rating_Type`\n",
    "and `Tournament_has_team`.`Elo_Placement` = `rating_placement`.`placement` \n",
    "and `Tournament_has_Team`.`Tournament_Name`= `Tournament`.`Tournament_Name`\n",
    "and `Tournament`.`Region` = `Region`.`Name`\n",
    "Group by `Tournament_has_Team`.`Team_Name`,`Tournament_has_Team`.`Team_Region`,`Tournament_has_Team`.`Tournament_Name`,`Tournament_has_Team`.`Tournament_DateStart`,`TournamentRegion`,\n",
    "`Tournament_has_Team`.`Tournament_Rating_Type`,`Tournament_has_Team`.`Team_Name`,`Tournament_has_Team`.`Team_Region`,\n",
    "`Tournament_has_team`.`Placement`,`Tournament_has_team`.`Elo_Placement`,`Rating_Placement`.`Elo`,`Region`.`EloScale`,`Elo_Gained`\n"
   ]
  },
  {
   "cell_type": "code",
   "execution_count": 24,
   "id": "e307d408-1bce-4a34-ad6d-9f133bdda86f",
   "metadata": {},
   "outputs": [
    {
     "name": "stdout",
     "output_type": "stream",
     "text": [
      "Connected to MySQL Server version  8.0.28\n",
      "You're connected to database:  ('valodex',)\n",
      "('Test', datetime.datetime(2022, 9, 12, 0, 0), 'SA', 'A', 'BLEED', 'MY/SG', 1, 1, 50, 30, 0, Decimal('35.0000'))\n",
      "('Test', datetime.datetime(2022, 9, 12, 0, 0), 'SA', 'A', 'BOOM', 'ID', 2, 1, 50, 30, 20, Decimal('25.0000'))\n",
      "('Test', datetime.datetime(2022, 9, 12, 0, 0), 'SA', 'A', 'TEST', 'CN', 3, 2, 100, 30, 0, Decimal('70.0000'))\n"
     ]
    }
   ],
   "source": [
    "stmt =\"\"\n",
    "stmt+=\"select `Tournament_has_Team`.`Tournament_Name`,`Tournament_has_Team`.`Tournament_DateStart`,`Tournament`.`Region` as `TournamentRegion`,\"\n",
    "stmt+=\"`Tournament_has_Team`.`Tournament_Rating_Type`,`Tournament_has_Team`.`Team_Name`,`Tournament_has_Team`.`Team_Region`,\"\n",
    "stmt+=\"`Tournament_has_team`.`Placement`,`Tournament_has_team`.`Elo_Placement`,`Rating_Placement`.`Elo`,`Region`.`EloScale`,`Tournament_has_team`.`Extra_Elo_Scale`,\"\n",
    "stmt+=\"`Rating_Placement`.`Elo`*(100-(`Region`.`EloScale`+`Tournament_has_team`.`Extra_Elo_scale`))/100 as `Elo_Gained`\"\n",
    "stmt+=\"from `Tournament_has_team`,`rating_placement`,`tournament`,`Region`\"\n",
    "stmt+=\"where `Tournament_has_team`.`Tournament_Rating_Type`=`rating_placement`.`Tournament_Rating_Type`\"\n",
    "stmt+=\"and `Tournament_has_team`.`Elo_Placement` = `rating_placement`.`placement`\" \n",
    "stmt+=\"and `Tournament_has_Team`.`Tournament_Name`= `Tournament`.`Tournament_Name`\"\n",
    "stmt+=\"and `Tournament`.`Region` = `Region`.`Name`\"\n",
    "stmt+=\"Group by `Tournament_has_Team`.`Team_Name`,`Tournament_has_Team`.`Team_Region`,`Tournament_has_Team`.`Tournament_Name`,`Tournament_has_Team`.`Tournament_DateStart`,`TournamentRegion`,\"\n",
    "stmt+=\"`Tournament_has_Team`.`Tournament_Rating_Type`,`Tournament_has_Team`.`Team_Name`,`Tournament_has_Team`.`Team_Region`,\"\n",
    "stmt+=\"`Tournament_has_team`.`Placement`,`Tournament_has_team`.`Elo_Placement`,`Rating_Placement`.`Elo`,`Region`.`EloScale`,`Elo_Gained`\"\n",
    "store=query_database(stmt)\n",
    "for row in store:\n",
    "    print(row)"
   ]
  },
  {
   "cell_type": "markdown",
   "id": "79e4fbae-5661-49de-8af4-64faa3b9af86",
   "metadata": {
    "tags": []
   },
   "source": [
    "# Download Tables"
   ]
  },
  {
   "cell_type": "markdown",
   "id": "aa0c28e4-472e-4862-aa6d-02be945541ff",
   "metadata": {},
   "source": [
    "Run everything here when you want to save the data"
   ]
  },
  {
   "cell_type": "code",
   "execution_count": 124,
   "id": "9075cdc0-52b8-4023-a1e0-448626c28c45",
   "metadata": {},
   "outputs": [
    {
     "name": "stdout",
     "output_type": "stream",
     "text": [
      "Connected to MySQL Server version  8.0.28\n",
      "You're connected to database:  ('valodex',)\n",
      "Connected to MySQL Server version  8.0.28\n",
      "You're connected to database:  ('valodex',)\n",
      "Connected to MySQL Server version  8.0.28\n",
      "You're connected to database:  ('valodex',)\n",
      "Connected to MySQL Server version  8.0.28\n",
      "You're connected to database:  ('valodex',)\n",
      "Connected to MySQL Server version  8.0.28\n",
      "You're connected to database:  ('valodex',)\n",
      "Connected to MySQL Server version  8.0.28\n",
      "You're connected to database:  ('valodex',)\n"
     ]
    }
   ],
   "source": [
    "tables={}\n",
    "tables[\"region\"]=pd.DataFrame(query_database(\"select * from `ValoDex`.`Region`\"),\n",
    "                              columns=[\"Name\", \"EloScale\"]).to_csv(index=False)\n",
    "tables[\"tournament\"]=pd.DataFrame(query_database(\"select * from `ValoDex`.`Tournament`\"),\n",
    "                                    columns=[\"ValoDexID\", \"outsideID\", \"Tournament_Name\", \"Region\", \"DateStart\", \"DateEnd\", \"Tournament_Rating_Type\"]).to_csv(index=False)\n",
    "tables[\"tournament_rating\"]=pd.DataFrame(query_database(\"select * from `ValoDex`.`tournament_rating`\"),columns=[\"Type\"]).to_csv(index=False)\n",
    "tables[\"team\"]=pd.DataFrame(query_database(\"select * from `ValoDex`.`Team`\"),columns=[\"TeamID\", \"Name\", \"Abbreviation\", \"Region\", \"FA\"]).to_csv( index=False)\n",
    "tables[\"tournamnet_has_team\"]=pd.DataFrame(query_database(\"select * from `ValoDex`.`Tournament_has_team`\"),\n",
    "                                          columns=[\"Tournament_Name\", \"Tournament_DateStart\", \"Tournament_Rating_Type\", \"Team_Name\", \"Team_Region\", \"Placement\", \"Elo_placement\", \"Extra_Elo_Scale\", \"Reason_For_Extra\"]).to_csv(index=False)\n",
    "tables[\"rating_placement\"]=pd.DataFrame(query_database(\"select * from `ValoDex`.`Rating_Placement`\"),columns=[\"Placement\", \"Tournament_Rating_Type\", \"Elo\"]).to_csv(index=False)"
   ]
  },
  {
   "cell_type": "code",
   "execution_count": 128,
   "id": "f5d01d0d-fa90-4e75-9180-bbbb01ad7615",
   "metadata": {},
   "outputs": [
    {
     "name": "stdout",
     "output_type": "stream",
     "text": [
      "region\n",
      "Name,EloScale\n",
      "CN,0\n",
      "EA,0\n",
      "HK/TW,0\n",
      "ID,0\n",
      "JP,0\n",
      "KR,0\n",
      "MY/SG,0\n",
      "OCE,0\n",
      "PH,0\n",
      "SA,30\n",
      "SEA,0\n",
      "TH,0\n",
      "VN,0\n",
      "\n",
      "tournament\n",
      "ValoDexID,outsideID,Tournament_Name,Region,DateStart,DateEnd,Tournament_Rating_Type\n",
      "2,,Test,SA,2022-09-12,2022-09-15,S\n",
      "3,11,Test2,SA,2022-09-12,2022-09-15,S\n",
      "1,,Test3,SA,2022-12-09,2022-12-11,A\n",
      "\n",
      "tournament_rating\n",
      "Type\n",
      "A\n",
      "B\n",
      "C\n",
      "S\n",
      "\n",
      "team\n",
      "TeamID,Name,Abbreviation,Region,FA\n",
      "2,BLEED,BLD,MY/SG,0\n",
      "3,BOOM,BME,ID,0\n",
      "4,MADE IN THAILAND,MITH,TH,0\n",
      "1,Test,TT,CN,0\n",
      "\n",
      "tournamnet_has_team\n",
      "Tournament_Name,Tournament_DateStart,Tournament_Rating_Type,Team_Name,Team_Region,Placement,Elo_placement,Extra_Elo_Scale,Reason_For_Extra\n",
      "Test,2022-09-12,S,BLEED,MY/SG,1,1,0,\n",
      "Test,2022-09-12,S,BOOM,ID,2,1,20,Surrender\n",
      "Test,2022-09-12,S,TEST,CN,3,2,0,\n",
      "Test2,2022-09-12,S,BLEED,MY/SG,1,1,0,\n",
      "Test2,2022-09-12,S,BOOM,ID,2,1,0,\n",
      "Test2,2022-09-12,S,TEST,CN,3,2,0,\n",
      "\n",
      "rating_placement\n",
      "Placement,Tournament_Rating_Type,Elo\n",
      "1,A,50\n",
      "1,S,100\n",
      "2,A,100\n",
      "2,S,100\n",
      "4,A,100\n",
      "4,S,100\n",
      "8,A,100\n",
      "8,S,100\n",
      "\n"
     ]
    }
   ],
   "source": [
    "for row in tables:\n",
    "    print(f\"{row}\\n{tables[row]}\")"
   ]
  },
  {
   "cell_type": "code",
   "execution_count": 144,
   "id": "309037aa-4f75-4fec-b8d6-6078332a92a3",
   "metadata": {},
   "outputs": [],
   "source": [
    "filename=\"download_SQL.txt\"\n",
    "with open(filename,mode=\"w\",encoding=\"utf-8\") as writefile:\n",
    "    writefile.write(\"Time downloaded: \")\n",
    "    writefile.write(str(datetime.datetime.now().strftime(\"%Y-%m-%d %H:%M:%S\")))\n",
    "    writefile.write(\"\\n\")\n",
    "    for row in tables:\n",
    "        writefile.write(f\"{row}\\n{tables[row]}\\n\")"
   ]
  },
  {
   "cell_type": "code",
   "execution_count": null,
   "id": "ce355bf3-9289-4d09-a546-0ca5b2ff3542",
   "metadata": {},
   "outputs": [],
   "source": []
  }
 ],
 "metadata": {
  "kernelspec": {
   "display_name": "Python 3",
   "language": "python",
   "name": "python3"
  },
  "language_info": {
   "codemirror_mode": {
    "name": "ipython",
    "version": 3
   },
   "file_extension": ".py",
   "mimetype": "text/x-python",
   "name": "python",
   "nbconvert_exporter": "python",
   "pygments_lexer": "ipython3",
   "version": "3.7.11"
  }
 },
 "nbformat": 4,
 "nbformat_minor": 5
}
